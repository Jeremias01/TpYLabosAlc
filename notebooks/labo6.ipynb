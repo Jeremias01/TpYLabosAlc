{
 "cells": [
  {
   "cell_type": "code",
   "execution_count": null,
   "id": "1623b7f9",
   "metadata": {
    "vscode": {
     "languageId": "plaintext"
    }
   },
   "outputs": [],
   "source": [
    "import sys\n",
    "sys.path.append(\"./src\") # poner path\n",
    "from labo00_auxiliares import * \n",
    "from labo06_AVs import * \n",
    "\n",
    "# def graficarAVsMatrix():\n",
    "\n"
   ]
  }
 ],
 "metadata": {
  "language_info": {
   "name": "python"
  }
 },
 "nbformat": 4,
 "nbformat_minor": 5
}
